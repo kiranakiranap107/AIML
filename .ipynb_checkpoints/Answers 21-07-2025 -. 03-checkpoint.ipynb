{
 "cells": [
  {
   "cell_type": "code",
   "execution_count": 1,
   "metadata": {},
   "outputs": [],
   "source": [
    "import pandas as pd"
   ]
  },
  {
   "cell_type": "code",
   "execution_count": 2,
   "metadata": {},
   "outputs": [
    {
     "name": "stdout",
     "output_type": "stream",
     "text": [
      "         Date     Event   Cost\n",
      "0  10/02/2011     Music   1000\n",
      "1  11/02/2011    Poetry   5000\n",
      "2  12/02/2011  Theartre  15000\n",
      "3  13/02/2011    Comedy   2000\n"
     ]
    }
   ],
   "source": [
    "data={\n",
    "    \"Date\":[\"10/02/2011\",'11/02/2011','12/02/2011','13/02/2011'],\n",
    "    \"Event\":['Music','Poetry','Theartre','Comedy'],\n",
    "    \"Cost\":[1000,5000,15000,2000]\n",
    "}\n",
    "df=pd.DataFrame(data)\n",
    "print(df)"
   ]
  },
  {
   "cell_type": "markdown",
   "metadata": {},
   "source": [
    "# a) Add 2 new column discount and discount price."
   ]
  },
  {
   "cell_type": "code",
   "execution_count": 3,
   "metadata": {},
   "outputs": [
    {
     "data": {
      "text/html": [
       "<div>\n",
       "<style scoped>\n",
       "    .dataframe tbody tr th:only-of-type {\n",
       "        vertical-align: middle;\n",
       "    }\n",
       "\n",
       "    .dataframe tbody tr th {\n",
       "        vertical-align: top;\n",
       "    }\n",
       "\n",
       "    .dataframe thead th {\n",
       "        text-align: right;\n",
       "    }\n",
       "</style>\n",
       "<table border=\"1\" class=\"dataframe\">\n",
       "  <thead>\n",
       "    <tr style=\"text-align: right;\">\n",
       "      <th></th>\n",
       "      <th>Date</th>\n",
       "      <th>Event</th>\n",
       "      <th>Cost</th>\n",
       "      <th>Discount</th>\n",
       "    </tr>\n",
       "  </thead>\n",
       "  <tbody>\n",
       "    <tr>\n",
       "      <th>0</th>\n",
       "      <td>10/02/2011</td>\n",
       "      <td>Music</td>\n",
       "      <td>1000</td>\n",
       "      <td>100.0</td>\n",
       "    </tr>\n",
       "    <tr>\n",
       "      <th>1</th>\n",
       "      <td>11/02/2011</td>\n",
       "      <td>Poetry</td>\n",
       "      <td>5000</td>\n",
       "      <td>500.0</td>\n",
       "    </tr>\n",
       "    <tr>\n",
       "      <th>2</th>\n",
       "      <td>12/02/2011</td>\n",
       "      <td>Theartre</td>\n",
       "      <td>15000</td>\n",
       "      <td>1500.0</td>\n",
       "    </tr>\n",
       "    <tr>\n",
       "      <th>3</th>\n",
       "      <td>13/02/2011</td>\n",
       "      <td>Comedy</td>\n",
       "      <td>2000</td>\n",
       "      <td>200.0</td>\n",
       "    </tr>\n",
       "  </tbody>\n",
       "</table>\n",
       "</div>"
      ],
      "text/plain": [
       "         Date     Event   Cost  Discount\n",
       "0  10/02/2011     Music   1000     100.0\n",
       "1  11/02/2011    Poetry   5000     500.0\n",
       "2  12/02/2011  Theartre  15000    1500.0\n",
       "3  13/02/2011    Comedy   2000     200.0"
      ]
     },
     "execution_count": 3,
     "metadata": {},
     "output_type": "execute_result"
    }
   ],
   "source": [
    "# Discount\n",
    "\n",
    "df['Discount']=df['Cost']*0.1\n",
    "df"
   ]
  },
  {
   "cell_type": "code",
   "execution_count": 4,
   "metadata": {},
   "outputs": [
    {
     "data": {
      "text/html": [
       "<div>\n",
       "<style scoped>\n",
       "    .dataframe tbody tr th:only-of-type {\n",
       "        vertical-align: middle;\n",
       "    }\n",
       "\n",
       "    .dataframe tbody tr th {\n",
       "        vertical-align: top;\n",
       "    }\n",
       "\n",
       "    .dataframe thead th {\n",
       "        text-align: right;\n",
       "    }\n",
       "</style>\n",
       "<table border=\"1\" class=\"dataframe\">\n",
       "  <thead>\n",
       "    <tr style=\"text-align: right;\">\n",
       "      <th></th>\n",
       "      <th>Date</th>\n",
       "      <th>Event</th>\n",
       "      <th>Cost</th>\n",
       "      <th>Discount</th>\n",
       "      <th>Discount_price</th>\n",
       "    </tr>\n",
       "  </thead>\n",
       "  <tbody>\n",
       "    <tr>\n",
       "      <th>0</th>\n",
       "      <td>10/02/2011</td>\n",
       "      <td>Music</td>\n",
       "      <td>1000</td>\n",
       "      <td>100.0</td>\n",
       "      <td>900.0</td>\n",
       "    </tr>\n",
       "    <tr>\n",
       "      <th>1</th>\n",
       "      <td>11/02/2011</td>\n",
       "      <td>Poetry</td>\n",
       "      <td>5000</td>\n",
       "      <td>500.0</td>\n",
       "      <td>4500.0</td>\n",
       "    </tr>\n",
       "    <tr>\n",
       "      <th>2</th>\n",
       "      <td>12/02/2011</td>\n",
       "      <td>Theartre</td>\n",
       "      <td>15000</td>\n",
       "      <td>1500.0</td>\n",
       "      <td>13500.0</td>\n",
       "    </tr>\n",
       "    <tr>\n",
       "      <th>3</th>\n",
       "      <td>13/02/2011</td>\n",
       "      <td>Comedy</td>\n",
       "      <td>2000</td>\n",
       "      <td>200.0</td>\n",
       "      <td>1800.0</td>\n",
       "    </tr>\n",
       "  </tbody>\n",
       "</table>\n",
       "</div>"
      ],
      "text/plain": [
       "         Date     Event   Cost  Discount  Discount_price\n",
       "0  10/02/2011     Music   1000     100.0           900.0\n",
       "1  11/02/2011    Poetry   5000     500.0          4500.0\n",
       "2  12/02/2011  Theartre  15000    1500.0         13500.0\n",
       "3  13/02/2011    Comedy   2000     200.0          1800.0"
      ]
     },
     "execution_count": 4,
     "metadata": {},
     "output_type": "execute_result"
    }
   ],
   "source": [
    "# Discount Price\n",
    "\n",
    "df['Discount_price']=df.apply(lambda row: row.Cost - (row.Cost*0.1),axis=1)\n",
    "df"
   ]
  },
  {
   "cell_type": "markdown",
   "metadata": {},
   "source": [
    "# b) Add 2 more event data object to the dataset."
   ]
  },
  {
   "cell_type": "code",
   "execution_count": 5,
   "metadata": {},
   "outputs": [
    {
     "data": {
      "text/html": [
       "<div>\n",
       "<style scoped>\n",
       "    .dataframe tbody tr th:only-of-type {\n",
       "        vertical-align: middle;\n",
       "    }\n",
       "\n",
       "    .dataframe tbody tr th {\n",
       "        vertical-align: top;\n",
       "    }\n",
       "\n",
       "    .dataframe thead th {\n",
       "        text-align: right;\n",
       "    }\n",
       "</style>\n",
       "<table border=\"1\" class=\"dataframe\">\n",
       "  <thead>\n",
       "    <tr style=\"text-align: right;\">\n",
       "      <th></th>\n",
       "      <th>Date</th>\n",
       "      <th>Event</th>\n",
       "      <th>Cost</th>\n",
       "      <th>Discount</th>\n",
       "      <th>Discount_price</th>\n",
       "    </tr>\n",
       "  </thead>\n",
       "  <tbody>\n",
       "    <tr>\n",
       "      <th>0</th>\n",
       "      <td>10/02/2011</td>\n",
       "      <td>Music</td>\n",
       "      <td>1000</td>\n",
       "      <td>100.0</td>\n",
       "      <td>900.0</td>\n",
       "    </tr>\n",
       "    <tr>\n",
       "      <th>1</th>\n",
       "      <td>11/02/2011</td>\n",
       "      <td>Poetry</td>\n",
       "      <td>5000</td>\n",
       "      <td>500.0</td>\n",
       "      <td>4500.0</td>\n",
       "    </tr>\n",
       "    <tr>\n",
       "      <th>2</th>\n",
       "      <td>12/02/2011</td>\n",
       "      <td>Theartre</td>\n",
       "      <td>15000</td>\n",
       "      <td>1500.0</td>\n",
       "      <td>13500.0</td>\n",
       "    </tr>\n",
       "    <tr>\n",
       "      <th>3</th>\n",
       "      <td>13/02/2011</td>\n",
       "      <td>Comedy</td>\n",
       "      <td>2000</td>\n",
       "      <td>200.0</td>\n",
       "      <td>1800.0</td>\n",
       "    </tr>\n",
       "    <tr>\n",
       "      <th>4</th>\n",
       "      <td>14/02/2011</td>\n",
       "      <td>Songs</td>\n",
       "      <td>5100</td>\n",
       "      <td>510.0</td>\n",
       "      <td>5490.0</td>\n",
       "    </tr>\n",
       "    <tr>\n",
       "      <th>5</th>\n",
       "      <td>15/02/2011</td>\n",
       "      <td>Dance</td>\n",
       "      <td>5200</td>\n",
       "      <td>520.0</td>\n",
       "      <td>5480.0</td>\n",
       "    </tr>\n",
       "  </tbody>\n",
       "</table>\n",
       "</div>"
      ],
      "text/plain": [
       "         Date     Event   Cost  Discount  Discount_price\n",
       "0  10/02/2011     Music   1000     100.0           900.0\n",
       "1  11/02/2011    Poetry   5000     500.0          4500.0\n",
       "2  12/02/2011  Theartre  15000    1500.0         13500.0\n",
       "3  13/02/2011    Comedy   2000     200.0          1800.0\n",
       "4  14/02/2011     Songs   5100     510.0          5490.0\n",
       "5  15/02/2011     Dance   5200     520.0          5480.0"
      ]
     },
     "execution_count": 5,
     "metadata": {},
     "output_type": "execute_result"
    }
   ],
   "source": [
    "df.loc[len(df.index)]=[\"14/02/2011\",\"Songs\",5100,510,5490]\n",
    "df.loc[len(df.index)]=[\"15/02/2011\",\"Dance\",5200,520,5480]\n",
    "df"
   ]
  },
  {
   "cell_type": "markdown",
   "metadata": {},
   "source": [
    "# c) Considerd the same dataset from another CSV merge the 2 CSV file and save it."
   ]
  },
  {
   "cell_type": "code",
   "execution_count": null,
   "metadata": {},
   "outputs": [],
   "source": [
    "df=df.append"
   ]
  }
 ],
 "metadata": {
  "kernelspec": {
   "display_name": "Python 3",
   "language": "python",
   "name": "python3"
  },
  "language_info": {
   "codemirror_mode": {
    "name": "ipython",
    "version": 3
   },
   "file_extension": ".py",
   "mimetype": "text/x-python",
   "name": "python",
   "nbconvert_exporter": "python",
   "pygments_lexer": "ipython3",
   "version": "3.8.3"
  }
 },
 "nbformat": 4,
 "nbformat_minor": 4
}
