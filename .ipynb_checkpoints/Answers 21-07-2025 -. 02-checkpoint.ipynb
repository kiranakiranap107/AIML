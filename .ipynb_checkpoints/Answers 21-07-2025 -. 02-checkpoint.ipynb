{
 "cells": [
  {
   "cell_type": "markdown",
   "metadata": {},
   "source": [
    "# Creating DataFrame "
   ]
  },
  {
   "cell_type": "code",
   "execution_count": 42,
   "metadata": {},
   "outputs": [
    {
     "name": "stdout",
     "output_type": "stream",
     "text": [
      "   ID    Name  Gender  Age  Study_Hours  Attendance(%)  Marks_Math  \\\n",
      "0   1    Riya  Famale   17          3.5             95          88   \n",
      "1   2   Arjun    Male   18          2.0             82          75   \n",
      "2   3   Sneha  Famale   17          4.0             98          90   \n",
      "3   4  Rakesh    Male   19          1.5             70          65   \n",
      "4   5   Aditi  Famale   16          3.8             92          95   \n",
      "5   6   Kiran    Male   18          2.5             85          78   \n",
      "6   7  Anjali  Famale   17          4.2             99          91   \n",
      "7   8  Manish    Male   19          1.0             65          60   \n",
      "\n",
      "   Marks_Scince Grade  \n",
      "0            92     A  \n",
      "1            80     B  \n",
      "2            89     A  \n",
      "3            68     C  \n",
      "4            93     A  \n",
      "5            75     B  \n",
      "6            95     A  \n",
      "7            58     D  \n"
     ]
    }
   ],
   "source": [
    "import pandas as pd\n",
    "import matplotlib.pyplot as plt\n",
    "\n",
    "data={\n",
    "    \"ID\":[1,2,3,4,5,6,7,8],\n",
    "    \"Name\":['Riya','Arjun','Sneha','Rakesh','Aditi','Kiran','Anjali','Manish'],\n",
    "    \"Gender\":['Famale','Male','Famale','Male','Famale','Male','Famale','Male'],\n",
    "    \"Age\":[17,18,17,19,16,18,17,19],\n",
    "    \"Study_Hours\":[3.5,2.0,4.0,1.5,3.8,2.5,4.2,1.0],\n",
    "    \"Attendance(%)\":[95,82,98,70,92,85,99,65],\n",
    "    \"Marks_Math\":[88,75,90,65,95,78,91,60],\n",
    "    \"Marks_Scince\":[92,80,89,68,93,75,95,58],\n",
    "    \"Grade\":['A','B','A','C','A','B','A','D']\n",
    "}\n",
    "\n",
    "df=pd.DataFrame(data)\n",
    "print(df)\n"
   ]
  },
  {
   "cell_type": "code",
   "execution_count": 2,
   "metadata": {},
   "outputs": [
    {
     "data": {
      "text/html": [
       "<div>\n",
       "<style scoped>\n",
       "    .dataframe tbody tr th:only-of-type {\n",
       "        vertical-align: middle;\n",
       "    }\n",
       "\n",
       "    .dataframe tbody tr th {\n",
       "        vertical-align: top;\n",
       "    }\n",
       "\n",
       "    .dataframe thead th {\n",
       "        text-align: right;\n",
       "    }\n",
       "</style>\n",
       "<table border=\"1\" class=\"dataframe\">\n",
       "  <thead>\n",
       "    <tr style=\"text-align: right;\">\n",
       "      <th></th>\n",
       "      <th>ID</th>\n",
       "      <th>Name</th>\n",
       "      <th>Gender</th>\n",
       "      <th>Age</th>\n",
       "      <th>Study_Hours</th>\n",
       "      <th>Attendance(%)</th>\n",
       "      <th>Marks_Math</th>\n",
       "      <th>Marks_Scince</th>\n",
       "      <th>Grade</th>\n",
       "    </tr>\n",
       "  </thead>\n",
       "  <tbody>\n",
       "    <tr>\n",
       "      <th>0</th>\n",
       "      <td>1</td>\n",
       "      <td>Riya</td>\n",
       "      <td>F</td>\n",
       "      <td>17</td>\n",
       "      <td>3.5</td>\n",
       "      <td>95</td>\n",
       "      <td>88</td>\n",
       "      <td>92</td>\n",
       "      <td>A</td>\n",
       "    </tr>\n",
       "    <tr>\n",
       "      <th>1</th>\n",
       "      <td>2</td>\n",
       "      <td>Arjun</td>\n",
       "      <td>M</td>\n",
       "      <td>18</td>\n",
       "      <td>2.0</td>\n",
       "      <td>82</td>\n",
       "      <td>75</td>\n",
       "      <td>80</td>\n",
       "      <td>B</td>\n",
       "    </tr>\n",
       "    <tr>\n",
       "      <th>2</th>\n",
       "      <td>3</td>\n",
       "      <td>Sneha</td>\n",
       "      <td>F</td>\n",
       "      <td>17</td>\n",
       "      <td>4.0</td>\n",
       "      <td>98</td>\n",
       "      <td>90</td>\n",
       "      <td>89</td>\n",
       "      <td>A</td>\n",
       "    </tr>\n",
       "    <tr>\n",
       "      <th>3</th>\n",
       "      <td>4</td>\n",
       "      <td>Rakesh</td>\n",
       "      <td>M</td>\n",
       "      <td>19</td>\n",
       "      <td>1.5</td>\n",
       "      <td>70</td>\n",
       "      <td>65</td>\n",
       "      <td>68</td>\n",
       "      <td>C</td>\n",
       "    </tr>\n",
       "    <tr>\n",
       "      <th>4</th>\n",
       "      <td>5</td>\n",
       "      <td>Aditi</td>\n",
       "      <td>F</td>\n",
       "      <td>16</td>\n",
       "      <td>3.8</td>\n",
       "      <td>92</td>\n",
       "      <td>95</td>\n",
       "      <td>93</td>\n",
       "      <td>A</td>\n",
       "    </tr>\n",
       "  </tbody>\n",
       "</table>\n",
       "</div>"
      ],
      "text/plain": [
       "   ID    Name Gender  Age  Study_Hours  Attendance(%)  Marks_Math  \\\n",
       "0   1    Riya      F   17          3.5             95          88   \n",
       "1   2   Arjun      M   18          2.0             82          75   \n",
       "2   3   Sneha      F   17          4.0             98          90   \n",
       "3   4  Rakesh      M   19          1.5             70          65   \n",
       "4   5   Aditi      F   16          3.8             92          95   \n",
       "\n",
       "   Marks_Scince Grade  \n",
       "0            92     A  \n",
       "1            80     B  \n",
       "2            89     A  \n",
       "3            68     C  \n",
       "4            93     A  "
      ]
     },
     "execution_count": 2,
     "metadata": {},
     "output_type": "execute_result"
    }
   ],
   "source": [
    "df.head()"
   ]
  },
  {
   "cell_type": "markdown",
   "metadata": {},
   "source": [
    "# 1) Plot a histogram of Marks_Math."
   ]
  },
  {
   "cell_type": "code",
   "execution_count": 4,
   "metadata": {},
   "outputs": [
    {
     "data": {
      "image/png": "[encoded data removed]",
      "text/plain": [
       "<Figure size 432x288 with 1 Axes>"
      ]
     },
     "metadata": {
      "needs_background": "light"
     },
     "output_type": "display_data"
    }
   ],
   "source": [
    "\n",
    "plt.hist(df['Marks_Math'])\n",
    "plt.show()"
   ]
  },
  {
   "cell_type": "markdown",
   "metadata": {},
   "source": [
    "# 2) Draw a bar chart of number of students per Grade."
   ]
  },
  {
   "cell_type": "raw",
   "metadata": {},
   "source": []
  },
  {
   "cell_type": "code",
   "execution_count": 15,
   "metadata": {},
   "outputs": [
    {
     "data": {
      "image/png": "[encoded data removed]",
      "text/plain": [
       "<Figure size 432x288 with 1 Axes>"
      ]
     },
     "metadata": {
      "needs_background": "light"
     },
     "output_type": "display_data"
    }
   ],
   "source": [
    "gc=df[\"Grade\"].value_counts()\n",
    "plt.bar(gc.index,gc.values)\n",
    "plt.show()"
   ]
  },
  {
   "cell_type": "markdown",
   "metadata": {},
   "source": [
    "# 3) Show the distibution of Stady_Hours."
   ]
  },
  {
   "cell_type": "code",
   "execution_count": 17,
   "metadata": {},
   "outputs": [
    {
     "data": {
      "image/png": "[encoded data removed]",
      "text/plain": [
       "<Figure size 432x288 with 1 Axes>"
      ]
     },
     "metadata": {
      "needs_background": "light"
     },
     "output_type": "display_data"
    }
   ],
   "source": [
    "df[\"Study_Hours\"].plot(kind='box')\n",
    "plt.show()"
   ]
  },
  {
   "cell_type": "markdown",
   "metadata": {},
   "source": [
    "# 4) Plot a pie chart of gender distribution ."
   ]
  },
  {
   "cell_type": "code",
   "execution_count": 44,
   "metadata": {},
   "outputs": [
    {
     "data": {
      "image/png": "[encoded data removed]",
      "text/plain": [
       "<Figure size 432x288 with 1 Axes>"
      ]
     },
     "metadata": {},
     "output_type": "display_data"
    }
   ],
   "source": [
    "t=df[\"Gender\"].value_counts()\n",
    "t\n",
    "mylabel=t.index\n",
    "\n",
    "plt.pie(t,labels=mylabel)\n",
    "plt.title(\"Gender Distribution Pie Plot\")\n",
    "plt.legend()\n",
    "\n",
    "\n",
    "plt.show()"
   ]
  },
  {
   "cell_type": "markdown",
   "metadata": {},
   "source": [
    "# 5) Plot frequency of attedence percentage ranges"
   ]
  },
  {
   "cell_type": "code",
   "execution_count": null,
   "metadata": {},
   "outputs": [],
   "source": []
  },
  {
   "cell_type": "code",
   "execution_count": null,
   "metadata": {},
   "outputs": [],
   "source": []
  }
 ],
 "metadata": {
  "kernelspec": {
   "display_name": "Python 3",
   "language": "python",
   "name": "python3"
  },
  "language_info": {
   "codemirror_mode": {
    "name": "ipython",
    "version": 3
   },
   "file_extension": ".py",
   "mimetype": "text/x-python",
   "name": "python",
   "nbconvert_exporter": "python",
   "pygments_lexer": "ipython3",
   "version": "3.8.3"
  }
 },
 "nbformat": 4,
 "nbformat_minor": 4
}
